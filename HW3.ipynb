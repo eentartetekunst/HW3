{
 "cells": [
  {
   "cell_type": "code",
   "execution_count": 1,
   "metadata": {},
   "outputs": [
    {
     "name": "stdout",
     "output_type": "stream",
     "text": [
      "Requirement already satisfied: matplotlib in c:\\users\\thean\\anaconda3\\lib\\site-packages (3.1.3)\n",
      "Requirement already satisfied: numpy in c:\\users\\thean\\anaconda3\\lib\\site-packages (1.18.1)\n",
      "Requirement already satisfied: sunpy in c:\\users\\thean\\anaconda3\\lib\\site-packages (1.1.4)\n",
      "Requirement already satisfied: astropy in c:\\users\\thean\\anaconda3\\lib\\site-packages (4.0.1.post1)\n",
      "Requirement already satisfied: skyfield in c:\\users\\thean\\anaconda3\\lib\\site-packages (1.22)\n",
      "Requirement already satisfied: kiwisolver>=1.0.1 in c:\\users\\thean\\anaconda3\\lib\\site-packages (from matplotlib) (1.2.0)\n",
      "Requirement already satisfied: cycler>=0.10 in c:\\users\\thean\\anaconda3\\lib\\site-packages (from matplotlib) (0.10.0)\n",
      "Requirement already satisfied: python-dateutil>=2.1 in c:\\users\\thean\\anaconda3\\lib\\site-packages (from matplotlib) (2.8.1)\n",
      "Requirement already satisfied: pyparsing!=2.0.4,!=2.1.2,!=2.1.6,>=2.0.1 in c:\\users\\thean\\anaconda3\\lib\\site-packages (from matplotlib) (2.4.7)\n",
      "Requirement already satisfied: scipy in c:\\users\\thean\\anaconda3\\lib\\site-packages (from sunpy) (1.4.1)\n",
      "Requirement already satisfied: parfive[ftp]>=1.0.2 in c:\\users\\thean\\anaconda3\\lib\\site-packages (from sunpy) (1.1.0)\n",
      "Requirement already satisfied: pandas in c:\\users\\thean\\anaconda3\\lib\\site-packages (from sunpy) (1.0.3)\n",
      "Requirement already satisfied: sgp4>=2.2 in c:\\users\\thean\\anaconda3\\lib\\site-packages (from skyfield) (2.12)\n",
      "Requirement already satisfied: jplephem>=2.13 in c:\\users\\thean\\anaconda3\\lib\\site-packages (from skyfield) (2.14)\n",
      "Requirement already satisfied: certifi>=2017.4.17 in c:\\users\\thean\\anaconda3\\lib\\site-packages (from skyfield) (2020.4.5.1)\n",
      "Requirement already satisfied: six in c:\\users\\thean\\anaconda3\\lib\\site-packages (from cycler>=0.10->matplotlib) (1.14.0)\n",
      "Requirement already satisfied: tqdm in c:\\users\\thean\\anaconda3\\lib\\site-packages (from parfive[ftp]>=1.0.2->sunpy) (4.46.0)\n",
      "Requirement already satisfied: aiohttp in c:\\users\\thean\\anaconda3\\lib\\site-packages (from parfive[ftp]>=1.0.2->sunpy) (3.6.2)\n",
      "Requirement already satisfied: aioftp; extra == \"ftp\" in c:\\users\\thean\\anaconda3\\lib\\site-packages (from parfive[ftp]>=1.0.2->sunpy) (0.16.0)\n",
      "Requirement already satisfied: pytz>=2017.2 in c:\\users\\thean\\anaconda3\\lib\\site-packages (from pandas->sunpy) (2020.1)\n",
      "Requirement already satisfied: chardet<4.0,>=2.0 in c:\\users\\thean\\anaconda3\\lib\\site-packages (from aiohttp->parfive[ftp]>=1.0.2->sunpy) (3.0.4)\n",
      "Requirement already satisfied: multidict<5.0,>=4.5 in c:\\users\\thean\\anaconda3\\lib\\site-packages (from aiohttp->parfive[ftp]>=1.0.2->sunpy) (4.7.6)\n",
      "Requirement already satisfied: async-timeout<4.0,>=3.0 in c:\\users\\thean\\anaconda3\\lib\\site-packages (from aiohttp->parfive[ftp]>=1.0.2->sunpy) (3.0.1)\n",
      "Requirement already satisfied: attrs>=17.3.0 in c:\\users\\thean\\anaconda3\\lib\\site-packages (from aiohttp->parfive[ftp]>=1.0.2->sunpy) (19.3.0)\n",
      "Requirement already satisfied: yarl<2.0,>=1.0 in c:\\users\\thean\\anaconda3\\lib\\site-packages (from aiohttp->parfive[ftp]>=1.0.2->sunpy) (1.4.2)\n",
      "Requirement already satisfied: idna>=2.0 in c:\\users\\thean\\anaconda3\\lib\\site-packages (from yarl<2.0,>=1.0->aiohttp->parfive[ftp]>=1.0.2->sunpy) (2.9)\n"
     ]
    }
   ],
   "source": [
    "!pip install matplotlib numpy sunpy astropy skyfield"
   ]
  },
  {
   "cell_type": "code",
   "execution_count": 2,
   "metadata": {},
   "outputs": [],
   "source": [
    "import matplotlib.pyplot as plt  # Plots \n",
    "import numpy as np  # Math and stats\n",
    "from astropy.coordinates import SkyCoord  # Cordinate translation\n",
    "from sunpy.coordinates import get_body_heliographic_stonyhurst  # Planets positions\n",
    "from astropy.time import Time  # Astropy time\n",
    "from skyfield.api import load\n",
    "from skyfield.api import Topos\n",
    "import math"
   ]
  },
  {
   "cell_type": "code",
   "execution_count": 3,
   "metadata": {},
   "outputs": [],
   "source": [
    "%matplotlib qt5"
   ]
  },
  {
   "cell_type": "code",
   "execution_count": 4,
   "metadata": {},
   "outputs": [],
   "source": [
    "obstime1 = Time('2020-06-11T22:00:00.000')\n",
    "obstime2 = Time('2020-07-11T22:00:00.000')\n",
    "planet_list = ['earth', 'venus', 'mars', 'mercury', 'jupiter', 'neptune', 'uranus']\n",
    "planet_coord1 = [get_body_heliographic_stonyhurst(planet, time=obstime1) for planet in planet_list]\n",
    "planet_coord2 = [get_body_heliographic_stonyhurst(planet, time=obstime2) for planet in planet_list]\n",
    "\n",
    "ts = load.timescale()\n",
    "planets = load('de421.bsp')\n",
    "earth = planets['earth']\n",
    "moscow = earth + Topos('55.7558 N', '37.6173 E')\n",
    "object_list = [ 'venus', 'mars', 'moon', 'sun']\n",
    "ts = load.timescale(builtin=True)\n",
    "t = ts.now()\n",
    "astrometric = [moscow.at(t).observe(planets[object]) for object in object_list]\n",
    "data = [x.apparent().altaz() for x in astrometric]  #alt, azi, d"
   ]
  },
  {
   "cell_type": "code",
   "execution_count": 5,
   "metadata": {
    "scrolled": false
   },
   "outputs": [
    {
     "name": "stdout",
     "output_type": "stream",
     "text": [
      "81.97766068261882\n",
      "130.72760362116003\n",
      "137.58147105512273\n",
      "72.95749994029586\n"
     ]
    },
    {
     "data": {
      "text/plain": [
       "Text(0.5, 1.05, 'Позиция* луны, солнца, венеры и марса над головой в Москве\\n2020-06-11 15:43:24.736830+00:00  *могут быть за горизонтом')"
      ]
     },
     "execution_count": 5,
     "metadata": {},
     "output_type": "execute_result"
    }
   ],
   "source": [
    "fig = plt.figure()\n",
    "ax1 = plt.subplot(221, projection='polar')\n",
    "for planet, coord in zip(planet_list, planet_coord1):\n",
    "    plt.polar(np.deg2rad(coord.lon), coord.radius, 'o', label=planet)\n",
    "ax1.set_title(r\"Позиция планет в солнечной системе на: 2020-06-11 22:00:00.000\")\n",
    "ax2 = plt.subplot(222, projection='polar')\n",
    "for planet, coord in zip(planet_list, planet_coord2):\n",
    "    plt.polar(np.deg2rad(coord.lon), coord.radius, 'o', label=planet)\n",
    "ax2.set_title(r\"Позиция планет в солнечной системе на: 2020-07-11 22:00:00.000\")\n",
    "plt.legend()\n",
    "plt.rcParams[\"legend.loc\"] = 'right'\n",
    "ax1.set_theta_zero_location(\"S\", offset=0)\n",
    "ax2.set_theta_zero_location(\"S\", offset=0)\n",
    "\n",
    "ax3 = fig.add_subplot(223, projection=\"polar\")\n",
    "for pos, planet in zip(data, object_list):\n",
    "    plt.polar(pos[1].radians, 90 - pos[0].radians * 180 / math.pi, 'o', label=planet)\n",
    "    print(90 - pos[0].radians * 180 / math.pi)\n",
    "ax3.set_theta_zero_location(\"S\", offset=0)\n",
    "ax3.set_rlim(90)\n",
    "plt.legend()\n",
    "ax3.set_title(f\"Позиция* луны, солнца, венеры и марса над головой в Москве\\n{t.utc_datetime()}  *могут быть за горизонтом\")"
   ]
  }
 ],
 "metadata": {
  "kernelspec": {
   "display_name": "Python 3",
   "language": "python",
   "name": "python3"
  },
  "language_info": {
   "codemirror_mode": {
    "name": "ipython",
    "version": 3
   },
   "file_extension": ".py",
   "mimetype": "text/x-python",
   "name": "python",
   "nbconvert_exporter": "python",
   "pygments_lexer": "ipython3",
   "version": "3.7.7"
  },
  "latex_envs": {
   "LaTeX_envs_menu_present": true,
   "autoclose": false,
   "autocomplete": true,
   "bibliofile": "biblio.bib",
   "cite_by": "apalike",
   "current_citInitial": 1,
   "eqLabelWithNumbers": true,
   "eqNumInitial": 1,
   "hotkeys": {
    "equation": "Ctrl-E",
    "itemize": "Ctrl-I"
   },
   "labels_anchors": false,
   "latex_user_defs": false,
   "report_style_numbering": false,
   "user_envs_cfg": false
  },
  "toc": {
   "base_numbering": 1,
   "nav_menu": {},
   "number_sections": true,
   "sideBar": true,
   "skip_h1_title": false,
   "title_cell": "Table of Contents",
   "title_sidebar": "Contents",
   "toc_cell": false,
   "toc_position": {},
   "toc_section_display": true,
   "toc_window_display": false
  },
  "varInspector": {
   "cols": {
    "lenName": 16,
    "lenType": 16,
    "lenVar": 40
   },
   "kernels_config": {
    "python": {
     "delete_cmd_postfix": "",
     "delete_cmd_prefix": "del ",
     "library": "var_list.py",
     "varRefreshCmd": "print(var_dic_list())"
    },
    "r": {
     "delete_cmd_postfix": ") ",
     "delete_cmd_prefix": "rm(",
     "library": "var_list.r",
     "varRefreshCmd": "cat(var_dic_list()) "
    }
   },
   "types_to_exclude": [
    "module",
    "function",
    "builtin_function_or_method",
    "instance",
    "_Feature"
   ],
   "window_display": true
  }
 },
 "nbformat": 4,
 "nbformat_minor": 4
}
